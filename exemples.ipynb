{
 "cells": [
  {
   "cell_type": "code",
   "execution_count": 1,
   "id": "061e2c4a",
   "metadata": {},
   "outputs": [],
   "source": [
    "from power.models.electricity_models import *\n",
    "from power.models.power_flow_models import *"
   ]
  },
  {
   "cell_type": "markdown",
   "id": "0ee89cf4",
   "metadata": {},
   "source": [
    "# Exemplo com 3 barras  "
   ]
  },
  {
   "cell_type": "code",
   "execution_count": 2,
   "id": "27736ead",
   "metadata": {},
   "outputs": [
    {
     "name": "stdout",
     "output_type": "stream",
     "text": [
      " \n",
      "=== Iteration 0 === \n",
      "Bus 1: P = 0.0000pu, Q = -0.0053pu, V = 1.0000pu, theta = 0.0000°\n",
      "Bus 2: P = -0.0000pu, Q = -0.0048pu, V = 1.0000pu, theta = 0.0000°\n",
      "Bus 3: P = 0.0000pu, Q = -0.0048pu, V = 1.0000pu, theta = 0.0000°\n",
      " \n",
      "=== Iteration 1 === \n",
      "Bus 1: P = 0.4790pu, Q = -0.0611pu, V = 1.0000pu, theta = 0.0000°\n",
      "Bus 2: P = -0.2399pu, Q = 0.1767pu, V = 1.0000pu, theta = -1.2012°\n",
      "Bus 3: P = -0.2350pu, Q = -0.1152pu, V = 0.9818pu, theta = -1.9128°\n",
      " \n",
      "=== Iteration 2 === \n",
      "Bus 1: P = 0.4843pu, Q = -0.0595pu, V = 1.0000pu, theta = 0.0000°\n",
      "Bus 2: P = -0.2400pu, Q = 0.1803pu, V = 1.0000pu, theta = -1.2107°\n",
      "Bus 3: P = -0.2400pu, Q = -0.1200pu, V = 0.9812pu, theta = -1.9425°\n",
      " \n",
      "=== Iteration 3 === \n",
      "Bus 1: P = 0.4843pu, Q = -0.0595pu, V = 1.0000pu, theta = 0.0000°\n",
      "Bus 2: P = -0.2400pu, Q = 0.1803pu, V = 1.0000pu, theta = -1.2107°\n",
      "Bus 3: P = -0.2400pu, Q = -0.1200pu, V = 0.9812pu, theta = -1.9425°\n",
      "Converged in 3 iterations.\n"
     ]
    }
   ],
   "source": [
    "net = Network()\n",
    "# Criação das barras\n",
    "buses = [\n",
    "    Bus(net, id=1, bus_type='Slack', v=1.0, theta=0.0),\n",
    "    Bus(net, id=2, bus_type='PV'), \n",
    "    Bus(net, id=3)\n",
    "]\n",
    "# Criação das linhas\n",
    "lines = [\n",
    "    Line(id=1, from_bus=buses[0], to_bus=buses[1], r=0.01938, x=0.05917, b_half=0.00264),\n",
    "    Line(id=2, from_bus=buses[0], to_bus=buses[2], r=0.05403, x=0.22304, b_half=0.00264),\n",
    "    Line(id=3, from_bus=buses[1], to_bus=buses[2], r=0.04699, x=0.19797, b_half=0.00219),\n",
    "]\n",
    "#Criação de Geradores:\n",
    "generators = [\n",
    "    Generator(id=1, bus=buses[0]), #Gerador Vtheta\n",
    "    Generator(id=2, bus=buses[1]), #Compensador Síncrono\n",
    "]\n",
    "\n",
    "loads = [\n",
    "    Load(id=1, bus=buses[1], pb=1000, p_input=240, q_input=120),\n",
    "    Load(id=2, bus=buses[2], pb=1000, p_input=240, q_input=120)\n",
    "]\n",
    "\n",
    "solver = AC_PF(net)\n",
    "solver.solve(verbose=True)\n"
   ]
  },
  {
   "cell_type": "code",
   "execution_count": 3,
   "id": "5bdcea58",
   "metadata": {},
   "outputs": [
    {
     "name": "stdout",
     "output_type": "stream",
     "text": [
      "-----------------Resultados:-----------------\n",
      "Barra 1:\n",
      "V1 = 1.000 < 0.0°\n",
      "Barra 2:\n",
      "V2 = 1.000 < -1.2°\n",
      "Barra 3:\n",
      "V3 = 0.981 < -1.9°\n"
     ]
    }
   ],
   "source": [
    "V = solver.V\n",
    "theta = solver.theta\n",
    "\n",
    "print('-----------------Resultados:-----------------')\n",
    "for i in range(len(V)):\n",
    "    print(f'Barra {i+1}:')\n",
    "    print(f'V{i+1} = {V[i]:.3f} < {theta[i]:.1f}°')"
   ]
  },
  {
   "cell_type": "markdown",
   "id": "5f0442f4",
   "metadata": {},
   "source": [
    "# Exemplo com 14 barras"
   ]
  },
  {
   "cell_type": "code",
   "execution_count": 4,
   "id": "dc2921c3",
   "metadata": {},
   "outputs": [
    {
     "name": "stdout",
     "output_type": "stream",
     "text": [
      " \n",
      "=== Iteration 0 === \n",
      "Bus 1: P = 0.1447pu, Q = 0.4547pu, V = 1.0600pu, theta = 0.0000°\n",
      "Bus 2: P = 0.1224pu, Q = 0.3287pu, V = 1.0450pu, theta = 0.0000°\n",
      "Bus 3: P = -0.0201pu, Q = -0.1578pu, V = 1.0100pu, theta = 0.0000°\n",
      "Bus 4: P = -0.0957pu, Q = -0.1540pu, V = 1.0000pu, theta = 0.0000°\n",
      "Bus 5: P = -0.1381pu, Q = -0.5232pu, V = 1.0000pu, theta = 0.0000°\n",
      "Bus 6: P = 0.4928pu, Q = 0.9890pu, V = 1.0700pu, theta = 0.0000°\n",
      "Bus 7: P = 0.0000pu, Q = -0.6185pu, V = 1.0000pu, theta = 0.0000°\n",
      "Bus 8: P = 0.0000pu, Q = 0.5569pu, V = 1.0900pu, theta = 0.0000°\n",
      "Bus 9: P = -0.0000pu, Q = -0.2475pu, V = 1.0000pu, theta = 0.0000°\n",
      "Bus 10: P = -0.0000pu, Q = 0.0000pu, V = 1.0000pu, theta = 0.0000°\n",
      "Bus 11: P = -0.1369pu, Q = -0.2866pu, V = 1.0000pu, theta = 0.0000°\n",
      "Bus 12: P = -0.1068pu, Q = -0.2223pu, V = 1.0000pu, theta = 0.0000°\n",
      "Bus 13: P = -0.2169pu, Q = -0.4272pu, V = 1.0000pu, theta = 0.0000°\n",
      "Bus 14: P = 0.0000pu, Q = 0.0000pu, V = 1.0000pu, theta = 0.0000°\n",
      " \n",
      "=== Iteration 1 === \n",
      "Bus 1: P = 2.2151pu, Q = -0.1790pu, V = 1.0600pu, theta = 0.0000°\n",
      "Bus 2: P = 0.2454pu, Q = 0.1868pu, V = 1.0450pu, theta = -4.6964°\n",
      "Bus 3: P = -0.9328pu, Q = 0.0012pu, V = 1.0100pu, theta = -12.3238°\n",
      "Bus 4: P = -0.4615pu, Q = 0.1011pu, V = 1.0252pu, theta = -10.0899°\n",
      "Bus 5: P = -0.0379pu, Q = 0.0852pu, V = 1.0273pu, theta = -8.5395°\n",
      "Bus 6: P = -0.1090pu, Q = -0.0591pu, V = 1.0700pu, theta = -13.9027°\n",
      "Bus 7: P = 0.0113pu, Q = 0.0591pu, V = 1.0698pu, theta = -13.2692°\n",
      "Bus 8: P = 0.0000pu, Q = 0.1248pu, V = 1.0900pu, theta = -13.2692°\n",
      "Bus 9: P = -0.3338pu, Q = -0.1489pu, V = 1.0639pu, theta = -14.9793°\n",
      "Bus 10: P = -0.0990pu, Q = -0.0596pu, V = 1.0579pu, theta = -15.1023°\n",
      "Bus 11: P = -0.0257pu, Q = -0.0005pu, V = 1.0624pu, theta = -14.6344°\n",
      "Bus 12: P = -0.0574pu, Q = -0.0029pu, V = 1.0590pu, theta = -14.8203°\n",
      "Bus 13: P = -0.1274pu, Q = -0.0358pu, V = 1.0542pu, theta = -14.9347°\n",
      "Bus 14: P = -0.1609pu, Q = -0.0480pu, V = 1.0412pu, theta = -16.0524°\n",
      " \n",
      "=== Iteration 2 === \n",
      "Bus 1: P = 2.3230pu, Q = -0.1690pu, V = 1.0600pu, theta = 0.0000°\n",
      "Bus 2: P = 0.1831pu, Q = 0.2962pu, V = 1.0450pu, theta = -4.9790°\n",
      "Bus 3: P = -0.9419pu, Q = 0.0436pu, V = 1.0100pu, theta = -12.7145°\n",
      "Bus 4: P = -0.4777pu, Q = 0.0395pu, V = 1.0187pu, theta = -10.3217°\n",
      "Bus 5: P = -0.0757pu, Q = -0.0153pu, V = 1.0203pu, theta = -8.7800°\n",
      "Bus 6: P = -0.1118pu, Q = 0.0466pu, V = 1.0700pu, theta = -14.2179°\n",
      "Bus 7: P = 0.0002pu, Q = 0.0005pu, V = 1.0620pu, theta = -13.3667°\n",
      "Bus 8: P = 0.0000pu, Q = 0.1732pu, V = 1.0900pu, theta = -13.3667°\n",
      "Bus 9: P = -0.2955pu, Q = -0.1658pu, V = 1.0564pu, theta = -14.9464°\n",
      "Bus 10: P = -0.0901pu, Q = -0.0580pu, V = 1.0514pu, theta = -15.1034°\n",
      "Bus 11: P = -0.0349pu, Q = -0.0179pu, V = 1.0571pu, theta = -14.7920°\n",
      "Bus 12: P = -0.0610pu, Q = -0.0160pu, V = 1.0552pu, theta = -15.0729°\n",
      "Bus 13: P = -0.1349pu, Q = -0.0579pu, V = 1.0505pu, theta = -15.1548°\n",
      "Bus 14: P = -0.1491pu, Q = -0.0500pu, V = 1.0358pu, theta = -16.0377°\n",
      " \n",
      "=== Iteration 3 === \n",
      "Bus 1: P = 2.3239pu, Q = -0.1689pu, V = 1.0600pu, theta = 0.0000°\n",
      "Bus 2: P = 0.1830pu, Q = 0.2970pu, V = 1.0450pu, theta = -4.9809°\n",
      "Bus 3: P = -0.9420pu, Q = 0.0439pu, V = 1.0100pu, theta = -12.7180°\n",
      "Bus 4: P = -0.4780pu, Q = 0.0390pu, V = 1.0186pu, theta = -10.3242°\n",
      "Bus 5: P = -0.0760pu, Q = -0.0160pu, V = 1.0203pu, theta = -8.7826°\n",
      "Bus 6: P = -0.1120pu, Q = 0.0474pu, V = 1.0700pu, theta = -14.2227°\n",
      "Bus 7: P = 0.0000pu, Q = 0.0000pu, V = 1.0620pu, theta = -13.3682°\n",
      "Bus 8: P = 0.0000pu, Q = 0.1736pu, V = 1.0900pu, theta = -13.3682°\n",
      "Bus 9: P = -0.2950pu, Q = -0.1660pu, V = 1.0563pu, theta = -14.9466°\n",
      "Bus 10: P = -0.0900pu, Q = -0.0580pu, V = 1.0513pu, theta = -15.1043°\n",
      "Bus 11: P = -0.0350pu, Q = -0.0180pu, V = 1.0571pu, theta = -14.7953°\n",
      "Bus 12: P = -0.0610pu, Q = -0.0160pu, V = 1.0552pu, theta = -15.0774°\n",
      "Bus 13: P = -0.1350pu, Q = -0.0580pu, V = 1.0504pu, theta = -15.1589°\n",
      "Bus 14: P = -0.1490pu, Q = -0.0500pu, V = 1.0358pu, theta = -16.0389°\n",
      "Converged in 3 iterations.\n"
     ]
    }
   ],
   "source": [
    "#14bus\n",
    "net = Network()\n",
    "\n",
    "buses = [                                                 \n",
    "    Bus(net, id= 1, bus_type='Slack', v=1.060, theta=0.0),\n",
    "    Bus(net, id= 2, bus_type=   'PV', v=1.045, theta=0.0),\n",
    "    Bus(net, id= 3, bus_type=   'PV', v=1.010, theta=0.0),\n",
    "    Bus(net, id= 4, bus_type=   'PQ', v=1.000, theta=0.0),\n",
    "    Bus(net, id= 5, bus_type=   'PQ', v=1.000, theta=0.0),\n",
    "    Bus(net, id= 6, bus_type=   'PV', v=1.070, theta=0.0),\n",
    "    Bus(net, id= 7, bus_type=   'PQ', v=1.000, theta=0.0),\n",
    "    Bus(net, id= 8, bus_type=   'PV', v=1.090, theta=0.0),\n",
    "    Bus(net, id= 9, bus_type=   'PQ', v=1.000, theta=0.0, Sh=19, Sb=100), ###Faltando shunt!!\n",
    "    Bus(net, id=10, bus_type=   'PQ', v=1.000, theta=0.0),\n",
    "    Bus(net, id=11, bus_type=   'PQ', v=1.000, theta=0.0),\n",
    "    Bus(net, id=12, bus_type=   'PQ', v=1.000, theta=0.0),\n",
    "    Bus(net, id=13, bus_type=   'PQ', v=1.000, theta=0.0), \n",
    "    Bus(net, id=14, bus_type=   'PQ', v=1.000, theta=0.0) \n",
    "]\n",
    "\n",
    "loads = [                                                           \n",
    "    Load(id= 1, bus=buses[ 1], pb=100, p_input=21.70, q_input=12.70),\n",
    "    Load(id= 2, bus=buses[ 2], pb=100, p_input=94.20, q_input=19.00),\n",
    "    Load(id= 3, bus=buses[ 3], pb=100, p_input=47.80, q_input=-3.90),\n",
    "    Load(id= 4, bus=buses[ 4], pb=100, p_input= 7.60, q_input= 1.60),\n",
    "    Load(id= 5, bus=buses[ 5], pb=100, p_input=11.20, q_input= 7.50),\n",
    "    Load(id= 6, bus=buses[ 8], pb=100, p_input=29.50, q_input=16.60),\n",
    "    Load(id= 7, bus=buses[ 9], pb=100, p_input= 9.00, q_input= 5.80),\n",
    "    Load(id= 8, bus=buses[10], pb=100, p_input= 3.50, q_input= 1.80),\n",
    "    Load(id= 9, bus=buses[11], pb=100, p_input= 6.10, q_input= 1.60),\n",
    "    Load(id=10, bus=buses[12], pb=100, p_input=13.50, q_input= 5.80),\n",
    "    Load(id=11, bus=buses[13], pb=100, p_input=14.90, q_input= 5.00)\n",
    "]\n",
    "\n",
    "#Criação de Geradores:                                        \n",
    "generators = [                                                \n",
    "    Generator(id=1, bus=buses[0]),                            \n",
    "    Generator(id=2, bus=buses[1], pb=100, p_input=40.00),     \n",
    "    Generator(id=3, bus=buses[2]),                            \n",
    "    Generator(id=4, bus=buses[4]),                            \n",
    "    Generator(id=5, bus=buses[5]),                            \n",
    "    Generator(id=6, bus=buses[7]) \n",
    "]\n",
    "\n",
    "lines = [                                                                                                   \n",
    "    Line(id= 1, from_bus=buses[ 0], to_bus=buses[ 1], r=0.01938, x=0.05917, b_half=0.0264),                 \n",
    "    Line(id= 2, from_bus=buses[ 0], to_bus=buses[ 4], r=0.05403, x=0.22304, b_half=0.0246),                 \n",
    "    Line(id= 3, from_bus=buses[ 1], to_bus=buses[ 2], r=0.04699, x=0.19797, b_half=0.0219),                 \n",
    "    Line(id= 4, from_bus=buses[ 1], to_bus=buses[ 3], r=0.05811, x=0.17632, b_half=0.0187),                 \n",
    "    Line(id= 5, from_bus=buses[ 1], to_bus=buses[ 4], r=0.05695, x=0.17388, b_half=0.0170),                 \n",
    "    Line(id= 6, from_bus=buses[ 2], to_bus=buses[ 3], r=0.06701, x=0.17103, b_half=0.0173),                 \n",
    "    Line(id= 7, from_bus=buses[ 3], to_bus=buses[ 4], r=0.01335, x=0.04211, b_half=0.0064),                 \n",
    "    Line(id= 8, from_bus=buses[ 3], to_bus=buses[ 6], r=0.0    , x=0.20912, b_half=0.0    ,tap_ratio=0.978),\n",
    "    Line(id= 9, from_bus=buses[ 3], to_bus=buses[ 8], r=0.0    , x=0.55618, b_half=0.0    ,tap_ratio=0.969),\n",
    "    Line(id=10, from_bus=buses[ 4], to_bus=buses[ 5], r=0.0    , x=0.25202, b_half=0.0    ,tap_ratio=0.932),\n",
    "    Line(id=11, from_bus=buses[ 5], to_bus=buses[10], r=0.09498, x=0.19890, b_half=0.0),                    \n",
    "    Line(id=12, from_bus=buses[ 5], to_bus=buses[11], r=0.12291, x=0.25581, b_half=0.0),                    \n",
    "    Line(id=13, from_bus=buses[ 5], to_bus=buses[12], r=0.06615, x=0.13027, b_half=0.0),                    \n",
    "    Line(id=14, from_bus=buses[ 6], to_bus=buses[ 7], r=0.0    , x=0.17615, b_half=0.0),                    \n",
    "    Line(id=15, from_bus=buses[ 6], to_bus=buses[ 8], r=0.0    , x=0.11001, b_half=0.0),                    \n",
    "    Line(id=16, from_bus=buses[ 8], to_bus=buses[ 9], r=0.03181, x=0.08450, b_half=0.0),                    \n",
    "    Line(id=17, from_bus=buses[ 8], to_bus=buses[13], r=0.12711, x=0.27038, b_half=0.0),                    \n",
    "    Line(id=18, from_bus=buses[ 9], to_bus=buses[10], r=0.08205, x=0.19207, b_half=0.0),                    \n",
    "    Line(id=19, from_bus=buses[11], to_bus=buses[12], r=0.22092, x=0.19988, b_half=0.0),                    \n",
    "    Line(id=20, from_bus=buses[12], to_bus=buses[13], r=0.17093, x=0.34802, b_half=0.0),                    \n",
    "]\n",
    "\n",
    "solver = AC_PF(net)\n",
    "solver.solve(verbose=True)"
   ]
  },
  {
   "cell_type": "code",
   "execution_count": 5,
   "id": "e91bb5a5",
   "metadata": {},
   "outputs": [
    {
     "name": "stdout",
     "output_type": "stream",
     "text": [
      "-----------------Resultados:-----------------\n",
      "Barra 1:\n",
      "V1 = 1.060 < 0.0°\n",
      "Barra 2:\n",
      "V2 = 1.045 < -5.0°\n",
      "Barra 3:\n",
      "V3 = 1.010 < -12.7°\n",
      "Barra 4:\n",
      "V4 = 1.019 < -10.3°\n",
      "Barra 5:\n",
      "V5 = 1.020 < -8.8°\n",
      "Barra 6:\n",
      "V6 = 1.070 < -14.2°\n",
      "Barra 7:\n",
      "V7 = 1.062 < -13.4°\n",
      "Barra 8:\n",
      "V8 = 1.090 < -13.4°\n",
      "Barra 9:\n",
      "V9 = 1.056 < -14.9°\n",
      "Barra 10:\n",
      "V10 = 1.051 < -15.1°\n",
      "Barra 11:\n",
      "V11 = 1.057 < -14.8°\n",
      "Barra 12:\n",
      "V12 = 1.055 < -15.1°\n",
      "Barra 13:\n",
      "V13 = 1.050 < -15.2°\n",
      "Barra 14:\n",
      "V14 = 1.036 < -16.0°\n"
     ]
    }
   ],
   "source": [
    "V = solver.V\n",
    "theta = solver.theta\n",
    "\n",
    "print('-----------------Resultados:-----------------')\n",
    "for i in range(len(V)):\n",
    "    print(f'Barra {i+1}:')\n",
    "    print(f'V{i+1} = {V[i]:.3f} < {theta[i]:.1f}°')"
   ]
  },
  {
   "cell_type": "code",
   "execution_count": 8,
   "id": "39d71f5f",
   "metadata": {},
   "outputs": [
    {
     "name": "stdout",
     "output_type": "stream",
     "text": [
      "[ 0.          5.84141878 14.67125065 12.23977804 10.50003405 17.43516886\n",
      " 16.43407268 16.43407268 18.49568818 18.81169344 18.38445631 18.75726067\n",
      " 19.06981897 20.3418965 ]\n"
     ]
    }
   ],
   "source": [
    "solver1 = DC_PF(net)\n",
    "results = solver1.solve()\n",
    "print(results)"
   ]
  }
 ],
 "metadata": {
  "kernelspec": {
   "display_name": "Otimizacao e IA",
   "language": "python",
   "name": "python3"
  },
  "language_info": {
   "codemirror_mode": {
    "name": "ipython",
    "version": 3
   },
   "file_extension": ".py",
   "mimetype": "text/x-python",
   "name": "python",
   "nbconvert_exporter": "python",
   "pygments_lexer": "ipython3",
   "version": "3.12.8"
  }
 },
 "nbformat": 4,
 "nbformat_minor": 5
}
