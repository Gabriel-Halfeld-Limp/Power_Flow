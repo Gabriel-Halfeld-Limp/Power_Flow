{
 "cells": [
  {
   "cell_type": "code",
   "execution_count": 7,
   "id": "d6922b64",
   "metadata": {},
   "outputs": [],
   "source": [
    "from net_builder import PWF_Network_Builder\n",
    "from AC_PF import AC_PF"
   ]
  },
  {
   "cell_type": "code",
   "execution_count": 8,
   "id": "44226719",
   "metadata": {},
   "outputs": [
    {
     "name": "stdout",
     "output_type": "stream",
     "text": [
      " \n",
      "=== Iteration 0 === \n",
      "BARRA-1: P = 0.1447pu, Q = 0.4547pu, V = 1.0600pu, theta = 0.0000°\n",
      "BARRA-2: P = 0.1224pu, Q = 0.3287pu, V = 1.0450pu, theta = 0.0000°\n",
      "BARRA-3: P = -0.0201pu, Q = -0.1578pu, V = 1.0100pu, theta = 0.0000°\n",
      "BARRA-4: P = -0.0957pu, Q = -0.1540pu, V = 1.0000pu, theta = 0.0000°\n",
      "BARRA-5: P = -0.1381pu, Q = -0.5232pu, V = 1.0000pu, theta = 0.0000°\n",
      "BARRA-6: P = 0.4928pu, Q = 0.9890pu, V = 1.0700pu, theta = 0.0000°\n",
      "BARRA-7: P = 0.0000pu, Q = -0.6185pu, V = 1.0000pu, theta = 0.0000°\n",
      "BARRA-8: P = 0.0000pu, Q = 0.5569pu, V = 1.0900pu, theta = 0.0000°\n",
      "BARRA-9: P = 0.0000pu, Q = -0.2475pu, V = 1.0000pu, theta = 0.0000°\n",
      "BARRA-10: P = -0.0000pu, Q = 0.0000pu, V = 1.0000pu, theta = 0.0000°\n",
      "BARRA-11: P = -0.1369pu, Q = -0.2866pu, V = 1.0000pu, theta = 0.0000°\n",
      "BARRA-12: P = -0.1068pu, Q = -0.2223pu, V = 1.0000pu, theta = 0.0000°\n",
      "BARRA-13: P = -0.2169pu, Q = -0.4272pu, V = 1.0000pu, theta = 0.0000°\n",
      "BARRA-14: P = 0.0000pu, Q = 0.0000pu, V = 1.0000pu, theta = 0.0000°\n",
      " \n",
      "=== Iteration 1 === \n",
      "BARRA-1: P = 2.2151pu, Q = -0.1790pu, V = 1.0600pu, theta = -0.0000°\n",
      "BARRA-2: P = 0.2454pu, Q = 0.1868pu, V = 1.0450pu, theta = -4.6964°\n",
      "BARRA-3: P = -0.9328pu, Q = 0.0012pu, V = 1.0100pu, theta = -12.3238°\n",
      "BARRA-4: P = -0.4615pu, Q = 0.1011pu, V = 1.0252pu, theta = -10.0899°\n",
      "BARRA-5: P = -0.0379pu, Q = 0.0852pu, V = 1.0273pu, theta = -8.5395°\n",
      "BARRA-6: P = -0.1090pu, Q = -0.0591pu, V = 1.0700pu, theta = -13.9027°\n",
      "BARRA-7: P = 0.0113pu, Q = 0.0591pu, V = 1.0698pu, theta = -13.2692°\n",
      "BARRA-8: P = 0.0000pu, Q = 0.1248pu, V = 1.0900pu, theta = -13.2692°\n",
      "BARRA-9: P = -0.3338pu, Q = -0.1489pu, V = 1.0639pu, theta = -14.9793°\n",
      "BARRA-10: P = -0.0990pu, Q = -0.0596pu, V = 1.0579pu, theta = -15.1023°\n",
      "BARRA-11: P = -0.0257pu, Q = -0.0005pu, V = 1.0624pu, theta = -14.6344°\n",
      "BARRA-12: P = -0.0574pu, Q = -0.0029pu, V = 1.0590pu, theta = -14.8203°\n",
      "BARRA-13: P = -0.1274pu, Q = -0.0358pu, V = 1.0542pu, theta = -14.9347°\n",
      "BARRA-14: P = -0.1609pu, Q = -0.0480pu, V = 1.0412pu, theta = -16.0524°\n",
      " \n",
      "=== Iteration 2 === \n",
      "BARRA-1: P = 2.3230pu, Q = -0.1690pu, V = 1.0600pu, theta = -0.0000°\n",
      "BARRA-2: P = 0.1831pu, Q = 0.2962pu, V = 1.0450pu, theta = -4.9790°\n",
      "BARRA-3: P = -0.9419pu, Q = 0.0436pu, V = 1.0100pu, theta = -12.7145°\n",
      "BARRA-4: P = -0.4777pu, Q = 0.0395pu, V = 1.0187pu, theta = -10.3217°\n",
      "BARRA-5: P = -0.0757pu, Q = -0.0153pu, V = 1.0203pu, theta = -8.7800°\n",
      "BARRA-6: P = -0.1118pu, Q = 0.0466pu, V = 1.0700pu, theta = -14.2179°\n",
      "BARRA-7: P = 0.0002pu, Q = 0.0005pu, V = 1.0620pu, theta = -13.3667°\n",
      "BARRA-8: P = 0.0000pu, Q = 0.1732pu, V = 1.0900pu, theta = -13.3667°\n",
      "BARRA-9: P = -0.2955pu, Q = -0.1658pu, V = 1.0564pu, theta = -14.9464°\n",
      "BARRA-10: P = -0.0901pu, Q = -0.0580pu, V = 1.0514pu, theta = -15.1034°\n",
      "BARRA-11: P = -0.0349pu, Q = -0.0179pu, V = 1.0571pu, theta = -14.7920°\n",
      "BARRA-12: P = -0.0610pu, Q = -0.0160pu, V = 1.0552pu, theta = -15.0729°\n",
      "BARRA-13: P = -0.1349pu, Q = -0.0579pu, V = 1.0505pu, theta = -15.1548°\n",
      "BARRA-14: P = -0.1491pu, Q = -0.0500pu, V = 1.0358pu, theta = -16.0377°\n",
      " \n",
      "=== Iteration 3 === \n",
      "BARRA-1: P = 2.3239pu, Q = -0.1689pu, V = 1.0600pu, theta = -0.0000°\n",
      "BARRA-2: P = 0.1830pu, Q = 0.2970pu, V = 1.0450pu, theta = -4.9809°\n",
      "BARRA-3: P = -0.9420pu, Q = 0.0439pu, V = 1.0100pu, theta = -12.7180°\n",
      "BARRA-4: P = -0.4780pu, Q = 0.0390pu, V = 1.0186pu, theta = -10.3242°\n",
      "BARRA-5: P = -0.0760pu, Q = -0.0160pu, V = 1.0203pu, theta = -8.7826°\n",
      "BARRA-6: P = -0.1120pu, Q = 0.0474pu, V = 1.0700pu, theta = -14.2227°\n",
      "BARRA-7: P = 0.0000pu, Q = 0.0000pu, V = 1.0620pu, theta = -13.3682°\n",
      "BARRA-8: P = 0.0000pu, Q = 0.1736pu, V = 1.0900pu, theta = -13.3682°\n",
      "BARRA-9: P = -0.2950pu, Q = -0.1660pu, V = 1.0563pu, theta = -14.9466°\n",
      "BARRA-10: P = -0.0900pu, Q = -0.0580pu, V = 1.0513pu, theta = -15.1043°\n",
      "BARRA-11: P = -0.0350pu, Q = -0.0180pu, V = 1.0571pu, theta = -14.7953°\n",
      "BARRA-12: P = -0.0610pu, Q = -0.0160pu, V = 1.0552pu, theta = -15.0774°\n",
      "BARRA-13: P = -0.1350pu, Q = -0.0580pu, V = 1.0504pu, theta = -15.1589°\n",
      "BARRA-14: P = -0.1490pu, Q = -0.0500pu, V = 1.0358pu, theta = -16.0389°\n",
      "Converged in 3 iterations.\n"
     ]
    }
   ],
   "source": [
    "caminho = 'pwf_systems/IEEE14.pwf'\n",
    "builder = PWF_Network_Builder(caminho)\n",
    "net = builder.build_network()\n",
    "solver = AC_PF(net)\n",
    "solver.solve(verbose=True)"
   ]
  },
  {
   "cell_type": "code",
   "execution_count": 9,
   "id": "6e83f7df",
   "metadata": {},
   "outputs": [
    {
     "name": "stdout",
     "output_type": "stream",
     "text": [
      "-----------------Resultados:-----------------\n",
      "Barra 1:\n",
      "V1 = 1.060 < -0.0°\n",
      "Barra 2:\n",
      "V2 = 1.045 < -5.0°\n",
      "Barra 3:\n",
      "V3 = 1.010 < -12.7°\n",
      "Barra 4:\n",
      "V4 = 1.019 < -10.3°\n",
      "Barra 5:\n",
      "V5 = 1.020 < -8.8°\n",
      "Barra 6:\n",
      "V6 = 1.070 < -14.2°\n",
      "Barra 7:\n",
      "V7 = 1.062 < -13.4°\n",
      "Barra 8:\n",
      "V8 = 1.090 < -13.4°\n",
      "Barra 9:\n",
      "V9 = 1.056 < -14.9°\n",
      "Barra 10:\n",
      "V10 = 1.051 < -15.1°\n",
      "Barra 11:\n",
      "V11 = 1.057 < -14.8°\n",
      "Barra 12:\n",
      "V12 = 1.055 < -15.1°\n",
      "Barra 13:\n",
      "V13 = 1.050 < -15.2°\n",
      "Barra 14:\n",
      "V14 = 1.036 < -16.0°\n"
     ]
    }
   ],
   "source": [
    "V = solver.V\n",
    "theta = solver.theta\n",
    "\n",
    "print('-----------------Resultados:-----------------')\n",
    "for i in range(len(V)):\n",
    "    print(f'Barra {i+1}:')\n",
    "    print(f'V{i+1} = {V[i]:.3f} < {theta[i]:.1f}°')"
   ]
  }
 ],
 "metadata": {
  "kernelspec": {
   "display_name": "venv",
   "language": "python",
   "name": "python3"
  },
  "language_info": {
   "codemirror_mode": {
    "name": "ipython",
    "version": 3
   },
   "file_extension": ".py",
   "mimetype": "text/x-python",
   "name": "python",
   "nbconvert_exporter": "python",
   "pygments_lexer": "ipython3",
   "version": "3.12.8"
  }
 },
 "nbformat": 4,
 "nbformat_minor": 5
}
