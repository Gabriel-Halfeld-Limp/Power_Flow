{
 "cells": [
  {
   "cell_type": "markdown",
   "id": "012065c7",
   "metadata": {},
   "source": [
    "## Importando bibliotecas"
   ]
  },
  {
   "cell_type": "code",
   "execution_count": 3,
   "id": "b903388d",
   "metadata": {},
   "outputs": [],
   "source": [
    "from pyomo.environ import *\n",
    "from power import *\n",
    "import numpy as np\n",
    "import pandas as pd"
   ]
  },
  {
   "cell_type": "markdown",
   "id": "770da2c3",
   "metadata": {},
   "source": [
    "## DADOS"
   ]
  },
  {
   "cell_type": "code",
   "execution_count": 26,
   "id": "89e40dbe",
   "metadata": {},
   "outputs": [],
   "source": [
    "# Dados dos geradores\n",
    "dger_data = {\n",
    "    \"PGMIN\":     [0, 0, 0, 0],\n",
    "    \"PGMAX\":     [455, 455, 130, 130],\n",
    "    \"COST_A\":    [1000, 970, 700, 680],\n",
    "    \"COST_B\":    [16.19, 17.26, 16.60, 16.50],\n",
    "    \"COST_C\":    [0.00048, 0.00031, 0.00200, 0.00211],\n",
    "    \"MTU\":       [8, 8, 5, 5],\n",
    "    \"MTD\":       [8, 8, 5, 5],\n",
    "    \"HOT_COST\":  [4500, 5000, 550, 560],\n",
    "    \"COLD_COST\": [9000, 10000, 1100, 1120],\n",
    "    \"HTC\":       [5, 5, 4, 4],\n",
    "}\n",
    "\n",
    "generators = pd.DataFrame(dger_data)\n",
    "generators.index.name = 'G'\n",
    "\n",
    "# Dados da demanda por hora\n",
    "dload_data = {\n",
    "    \"DEMAND\":   [450, 530, 600, 540, 400, 280, 290, 500],\n",
    "    \"SPIN_RES\": [45, 53, 60, 54, 40, 28, 29, 50],\n",
    "}\n",
    "demand = pd.DataFrame(dload_data)\n",
    "demand.index = range(1, len(demand) + 1)\n",
    "demand.index.name = 'T'\n",
    "\n",
    "# Sets\n",
    "G = generators.index.tolist()     # Geradores\n",
    "T = demand.index.tolist()         # Horas\n"
   ]
  },
  {
   "cell_type": "markdown",
   "id": "ddf3f7ca",
   "metadata": {},
   "source": [
    "### ISB E ISC"
   ]
  },
  {
   "cell_type": "code",
   "execution_count": 28,
   "id": "88b94709",
   "metadata": {},
   "outputs": [
    {
     "name": "stdout",
     "output_type": "stream",
     "text": [
      "        ISB        ISC\n",
      "G                     \n",
      "0  16.40840  18.262796\n",
      "1  17.40105  19.461490\n",
      "2  16.86000  18.129231\n",
      "3  16.77430  18.066608\n",
      "ISC: [[18.2627956 ]\n",
      " [19.46148956]\n",
      " [18.12923077]\n",
      " [18.06660769]]\n"
     ]
    }
   ],
   "source": [
    "NGER = len(generators)\n",
    "\n",
    "ISD = np.zeros((NGER, 1))\n",
    "ISB = np.zeros((NGER, 1))\n",
    "ISC = np.zeros((NGER, 1))\n",
    "\n",
    "for ger in range(NGER):\n",
    "    cost_b = generators[\"COST_B\"].iloc[ger]\n",
    "    cost_c = generators[\"COST_C\"].iloc[ger]\n",
    "    pgmin = generators[\"PGMIN\"].iloc[ger]\n",
    "    pgmax = generators[\"PGMAX\"].iloc[ger]\n",
    "    mtu = generators[\"MTU\"].iloc[ger]\n",
    "    hot_cost = generators[\"HOT_COST\"].iloc[ger]\n",
    "    cold_cost = generators[\"COLD_COST\"].iloc[ger]\n",
    "\n",
    "    # ISB\n",
    "    ISB[ger, 0] = cost_b + 2 * cost_c * (pgmax - pgmin) / 2\n",
    "\n",
    "    # CP\n",
    "    CP = (hot_cost + cold_cost) / 2\n",
    "\n",
    "    # ISC\n",
    "    ISC[ger, 0] = cost_b + 2 * cost_c * pgmax / 2 + CP / (mtu * pgmax)\n",
    "\n",
    "# Se quiser ver como DataFrame\n",
    "df_indices = pd.DataFrame({\n",
    "    \"ISB\": ISB.flatten(),\n",
    "    \"ISC\": ISC.flatten()\n",
    "}, index=generators.index)\n",
    "\n",
    "print(df_indices)\n",
    "print(\"ISC:\", ISC)"
   ]
  },
  {
   "cell_type": "markdown",
   "id": "81ebf732",
   "metadata": {},
   "source": [
    "### ISD"
   ]
  },
  {
   "cell_type": "code",
   "execution_count": 12,
   "id": "937cce45",
   "metadata": {},
   "outputs": [],
   "source": [
    "def solve_periodic_dispatch(generators, demand):\n",
    "    G = generators.index.tolist()\n",
    "    results = {}\n",
    "\n",
    "    for t in demand.index:  # Um modelo por período\n",
    "        model = ConcreteModel()\n",
    "\n",
    "        # -------------------- Sets\n",
    "        model.G = Set(initialize=G)  # Apenas conjunto de geradores\n",
    "\n",
    "        # -------------------- Parâmetros dos geradores\n",
    "        model.PGMIN     = Param(model.G, initialize=generators[\"PGMIN\"].to_dict())\n",
    "        model.PGMAX     = Param(model.G, initialize=generators[\"PGMAX\"].to_dict())\n",
    "        model.COST_A    = Param(model.G, initialize=generators[\"COST_A\"].to_dict())\n",
    "        model.COST_B    = Param(model.G, initialize=generators[\"COST_B\"].to_dict())\n",
    "        model.COST_C    = Param(model.G, initialize=generators[\"COST_C\"].to_dict())\n",
    "        model.MTU       = Param(model.G, initialize=generators[\"MTU\"].to_dict())\n",
    "        model.MTD       = Param(model.G, initialize=generators[\"MTD\"].to_dict())\n",
    "        model.HOT_COST  = Param(model.G, initialize=generators[\"HOT_COST\"].to_dict())\n",
    "        model.COLD_COST = Param(model.G, initialize=generators[\"COLD_COST\"].to_dict())\n",
    "        model.HTC       = Param(model.G, initialize=generators[\"HTC\"].to_dict())\n",
    "\n",
    "        # -------------------- Parâmetros do tempo atual\n",
    "        demand_t = demand.loc[t, \"DEMAND\"]\n",
    "        reserve_t = demand.loc[t, \"SPIN_RES\"]\n",
    "\n",
    "        # -------------------- Variáveis\n",
    "        model.PG = Var(model.G, within=NonNegativeReals)\n",
    "\n",
    "        # -------------------- Função objetivo\n",
    "        def obj_rule(m):\n",
    "            return sum(m.COST_A[g] + m.COST_B[g]*m.PG[g] + m.COST_C[g]*m.PG[g]**2 for g in m.G)\n",
    "        model.cost = Objective(rule=obj_rule, sense=minimize)\n",
    "\n",
    "        # -------------------- Restrições\n",
    "        model.balance = Constraint(expr=sum(model.PG[g] for g in model.G) == demand_t)\n",
    "\n",
    "        model.pgmin = ConstraintList()\n",
    "        model.pgmax = ConstraintList()\n",
    "        for g in model.G:\n",
    "            model.pgmin.add(model.PG[g] >= model.PGMIN[g])\n",
    "            model.pgmax.add(model.PG[g] <= model.PGMAX[g])\n",
    "\n",
    "\n",
    "        # -------------------- Solver\n",
    "        solver = SolverFactory('ipopt')  # ou outro compatível\n",
    "        solver.solve(model)\n",
    "\n",
    "        # -------------------- Resultados\n",
    "        generation = {g: value(model.PG[g]) for g in model.G}\n",
    "        cost_total = value(model.cost)\n",
    "\n",
    "        results[t] = {\n",
    "            \"geracao\": generation,\n",
    "            \"custo\": cost_total,\n",
    "            \"demanda\": demand_t,\n",
    "            \"reserva\": reserve_t\n",
    "        }\n",
    "    return results"
   ]
  },
  {
   "cell_type": "code",
   "execution_count": 13,
   "id": "ace9ea79",
   "metadata": {},
   "outputs": [
    {
     "name": "stdout",
     "output_type": "stream",
     "text": [
      "\n",
      "Geração por período:\n",
      "           G1   G2     G3     G4\n",
      "Tempo                           \n",
      "1      426.45  0.0   0.00  23.55\n",
      "2      455.00  0.0  26.34  48.66\n",
      "3      455.00  0.0  62.27  82.73\n",
      "4      455.00  0.0  31.47  53.53\n",
      "5      385.71  0.0   0.00  14.29\n",
      "6      280.00  0.0   0.00   0.00\n",
      "7      290.00  0.0   0.00   0.00\n",
      "8      455.00  0.0  10.94  34.06\n"
     ]
    }
   ],
   "source": [
    "# Rodar o despacho para cada período\n",
    "resultado = solve_periodic_dispatch(generators, demand)\n",
    "\n",
    "# Inicializar dicionário para construção do DataFrame de gerações\n",
    "geracao_por_tempo = {}\n",
    "\n",
    "for t in resultado:\n",
    "    geracao_por_tempo[t] = resultado[t][\"geracao\"]\n",
    "\n",
    "# Converter para DataFrame\n",
    "geracao_df = pd.DataFrame.from_dict(geracao_por_tempo, orient='index')\n",
    "geracao_df.index.name = 'Tempo'\n",
    "geracao_df.columns = [f'G{g+1}' for g in geracao_df.columns]\n",
    "\n",
    "# Exibir resultados\n",
    "print(\"\\nGeração por período:\")\n",
    "print(geracao_df.round(2))"
   ]
  },
  {
   "cell_type": "code",
   "execution_count": 15,
   "id": "5ac8e262",
   "metadata": {},
   "outputs": [
    {
     "name": "stdout",
     "output_type": "stream",
     "text": [
      "\n",
      "ISD por período:\n",
      "          G1            G2            G3            G4\n",
      "Tempo                                                 \n",
      "1      18.74           NaN  8.474829e+07  4.542000e+01\n",
      "2      18.61           NaN  4.323000e+01  3.058000e+01\n",
      "3      18.61  4.413514e+11  2.797000e+01  2.489000e+01\n",
      "4      18.61           NaN  3.890000e+01  2.932000e+01\n",
      "5      18.97           NaN  5.948522e+09  6.413000e+01\n",
      "6      19.90           NaN  2.740662e+10  6.012674e+09\n",
      "7      19.78           NaN  2.483641e+10  4.127320e+09\n",
      "8      18.61           NaN  8.063000e+01  3.653000e+01\n"
     ]
    }
   ],
   "source": [
    "# Inicializa DataFrame do ISD com mesmo shape do de geração\n",
    "isd_df = pd.DataFrame(index=geracao_df.index, columns=geracao_df.columns)\n",
    "\n",
    "# Loop sobre os geradores e tempos\n",
    "for g in generators.index:\n",
    "    a = generators.loc[g, 'COST_A']\n",
    "    b = generators.loc[g, 'COST_B']\n",
    "    c = generators.loc[g, 'COST_C']\n",
    "    g_col = f'G{g+1}'  # Nome da coluna no DataFrame de geração\n",
    "\n",
    "    for t in geracao_df.index:\n",
    "        pg = geracao_df.loc[t, g_col]\n",
    "        if pg > 0:\n",
    "            isd = (a + b * pg + c + c * pg**2) / pg\n",
    "        else:\n",
    "            isd = np.nan  # ou isd = 0, se preferir\n",
    "\n",
    "        isd_df.loc[t, g_col] = isd\n",
    "\n",
    "# Converter para float\n",
    "isd_df = isd_df.astype(float)\n",
    "\n",
    "# Exibir resultados arredondados\n",
    "print(\"\\nISD por período:\")\n",
    "print(isd_df.round(2))"
   ]
  },
  {
   "cell_type": "code",
   "execution_count": null,
   "id": "14620e12",
   "metadata": {},
   "outputs": [
    {
     "name": "stdout",
     "output_type": "stream",
     "text": [
      "0\n",
      "1\n",
      "2\n",
      "3\n"
     ]
    }
   ],
   "source": [
    "for i in range(len(generators)):\n",
    "    "
   ]
  }
 ],
 "metadata": {
  "kernelspec": {
   "display_name": "Otimizacao e IA",
   "language": "python",
   "name": "python3"
  },
  "language_info": {
   "codemirror_mode": {
    "name": "ipython",
    "version": 3
   },
   "file_extension": ".py",
   "mimetype": "text/x-python",
   "name": "python",
   "nbconvert_exporter": "python",
   "pygments_lexer": "ipython3",
   "version": "3.12.8"
  }
 },
 "nbformat": 4,
 "nbformat_minor": 5
}
