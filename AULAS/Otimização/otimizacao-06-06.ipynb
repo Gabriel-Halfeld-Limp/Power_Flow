{
 "cells": [
  {
   "cell_type": "markdown",
   "id": "5e070628",
   "metadata": {},
   "source": [
    "## Bibliotecas"
   ]
  },
  {
   "cell_type": "code",
   "execution_count": 3,
   "id": "ac4dd5c1",
   "metadata": {},
   "outputs": [],
   "source": [
    "from power import *\n",
    "from pyomo.environ import *"
   ]
  },
  {
   "cell_type": "markdown",
   "id": "aec1813e",
   "metadata": {},
   "source": [
    "## Dados"
   ]
  },
  {
   "cell_type": "code",
   "execution_count": null,
   "id": "b3572f29",
   "metadata": {},
   "outputs": [],
   "source": [
    "# Dados do sistema\n",
    "ng = 5\n",
    "geradores = ['Gerador {i}' for i in range(1, ng + 1)]\n",
    "pmax = []\n",
    "pmin = []\n",
    "rampa = []\n",
    "\n",
    "nc = 5\n",
    "cargas = ['Carga {i}' for i in range(1, nc + 1)]\n",
    "\n",
    "nl = 8\n",
    "linhas = ['Linha {i}' for i in range(1, nl + 1)]\n",
    "\n",
    "nb = 10\n",
    "barras = ['Barra {i}' for i in range(1, nb + 1)]\n",
    "\n",
    "tempo = 24\n",
    "periodo = [f'Período {i}' for i in range(1, tempo + 1)]\n",
    "\n",
    "\n"
   ]
  },
  {
   "cell_type": "markdown",
   "id": "bc604138",
   "metadata": {},
   "source": [
    "## Otimização Não Linear"
   ]
  },
  {
   "cell_type": "code",
   "execution_count": 6,
   "id": "70533133",
   "metadata": {},
   "outputs": [],
   "source": [
    "# Modelo Concreto\n",
    "model = ConcreteModel()\n",
    "\n",
    "# Conjunto de geradores\n",
    "ger = Set(initialize=geradores)\n",
    "\n",
    "# Conjunto de linhas\n",
    "lin = Set(initialize=linhas)\n",
    "\n",
    "# Conjunto de cargas\n",
    "car = Set(initialize=cargas)\n"
   ]
  },
  {
   "cell_type": "code",
   "execution_count": null,
   "id": "bfde90fe",
   "metadata": {},
   "outputs": [],
   "source": [
    "# Criando os parâmetros\t\n",
    "# Conjunto de barras\n",
    "\n",
    "# Conjunto de barras\n",
    "\n",
    "# Conjunto de linhas\n",
    "\n",
    "# Conjunto de geradores\n",
    "\n",
    "# Conjunto de cargas\n"
   ]
  }
 ],
 "metadata": {
  "kernelspec": {
   "display_name": "Otimizacao e IA",
   "language": "python",
   "name": "python3"
  },
  "language_info": {
   "codemirror_mode": {
    "name": "ipython",
    "version": 3
   },
   "file_extension": ".py",
   "mimetype": "text/x-python",
   "name": "python",
   "nbconvert_exporter": "python",
   "pygments_lexer": "ipython3",
   "version": "3.12.8"
  }
 },
 "nbformat": 4,
 "nbformat_minor": 5
}
